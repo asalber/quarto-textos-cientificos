{
  "cells": [
    {
      "cell_type": "raw",
      "metadata": {},
      "source": [
        "---\n",
        "title: Bloques de código en R\n",
        "lang: es\n",
        "\n",
        "---"
      ],
      "id": "b21af26b"
    },
    {
      "cell_type": "markdown",
      "metadata": {},
      "source": [
        "Ejemplo de bloque de código en R.\n"
      ],
      "id": "28e83fb7"
    },
    {
      "cell_type": "code",
      "metadata": {
        "fig-width": 8,
        "fig-height": 4
      },
      "source": [
        "#| label: fig-exponenciales\n",
        "#| fig-cap: Funciones exponenciales\n",
        "#| fig-align: left\n",
        "x = seq(1, 3, length.out=100)\n",
        "plot(x, 2^x, type=\"l\", col=\"blue\", lwd=2, xlab=\"x\", ylab=\"y\")\n",
        "lines(x, exp(x), col=\"red\", lwd=2)\n",
        "legend(\"topright\", legend=c(\"2^x\", \"e^x\"), col=c(\"blue\", \"red\"), lwd=2)"
      ],
      "id": "fig-exponenciales",
      "execution_count": null,
      "outputs": []
    },
    {
      "cell_type": "markdown",
      "metadata": {},
      "source": [
        "Ejemplo de bloque de código en R con código oculto.\n"
      ],
      "id": "ab81e9b5"
    },
    {
      "cell_type": "code",
      "metadata": {},
      "source": [
        "#| label: fig-logaritmicas\n",
        "#| fig-cap: Funciones logarítmicas\n",
        "#| echo: false\n",
        "\n",
        "import numpy as np\n",
        "import matplotlib.pyplot as plt\n",
        "x = np.linspace(1, 10, 100)\n",
        "fig, ax = plt.subplots()\n",
        "ax.plot(x, np.log2(x), label=r'$\\log_2(x)$')\n",
        "ax.plot(x, np.log(x), label=r'$\\ln(x)$')\n",
        "ax.legend()\n",
        "plt.show()"
      ],
      "id": "fig-logaritmicas",
      "execution_count": null,
      "outputs": []
    }
  ],
  "metadata": {
    "kernelspec": {
      "name": "python3",
      "language": "python",
      "display_name": "Python 3 (ipykernel)"
    }
  },
  "nbformat": 4,
  "nbformat_minor": 5
}